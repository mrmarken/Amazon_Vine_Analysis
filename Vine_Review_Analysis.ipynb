{
  "nbformat": 4,
  "nbformat_minor": 0,
  "metadata": {
    "colab": {
      "provenance": [],
      "collapsed_sections": [],
      "authorship_tag": "ABX9TyNEOi+YyEh4upz0Tv4aJnX1",
      "include_colab_link": true
    },
    "kernelspec": {
      "name": "python3",
      "display_name": "Python 3"
    },
    "language_info": {
      "name": "python"
    }
  },
  "cells": [
    {
      "cell_type": "markdown",
      "metadata": {
        "id": "view-in-github",
        "colab_type": "text"
      },
      "source": [
        "<a href=\"https://colab.research.google.com/github/mrmarken/Amazon_Vine_Analysis/blob/main/Vine_Review_Analysis.ipynb\" target=\"_parent\"><img src=\"https://colab.research.google.com/assets/colab-badge.svg\" alt=\"Open In Colab\"/></a>"
      ]
    },
    {
      "cell_type": "code",
      "execution_count": 1,
      "metadata": {
        "colab": {
          "base_uri": "https://localhost:8080/"
        },
        "id": "LlZUY38Xb2Xn",
        "outputId": "e00649b9-11f3-4f00-ef6c-be8a66e7bcc8"
      },
      "outputs": [
        {
          "output_type": "stream",
          "name": "stdout",
          "text": [
            "Get:1 https://cloud.r-project.org/bin/linux/ubuntu bionic-cran40/ InRelease [3,626 B]\n",
            "Hit:2 http://archive.ubuntu.com/ubuntu bionic InRelease\n",
            "Get:3 http://security.ubuntu.com/ubuntu bionic-security InRelease [88.7 kB]\n",
            "Ign:4 https://developer.download.nvidia.com/compute/machine-learning/repos/ubuntu1804/x86_64  InRelease\n",
            "Get:5 http://ppa.launchpad.net/c2d4u.team/c2d4u4.0+/ubuntu bionic InRelease [15.9 kB]\n",
            "Get:6 https://developer.download.nvidia.com/compute/cuda/repos/ubuntu1804/x86_64  InRelease [1,581 B]\n",
            "Hit:7 https://developer.download.nvidia.com/compute/machine-learning/repos/ubuntu1804/x86_64  Release\n",
            "Get:8 http://archive.ubuntu.com/ubuntu bionic-updates InRelease [88.7 kB]\n",
            "Hit:9 http://ppa.launchpad.net/cran/libgit2/ubuntu bionic InRelease\n",
            "Get:10 http://archive.ubuntu.com/ubuntu bionic-backports InRelease [83.3 kB]\n",
            "Hit:11 http://ppa.launchpad.net/deadsnakes/ppa/ubuntu bionic InRelease\n",
            "Hit:12 http://ppa.launchpad.net/graphics-drivers/ppa/ubuntu bionic InRelease\n",
            "Get:13 https://developer.download.nvidia.com/compute/cuda/repos/ubuntu1804/x86_64  Packages [950 kB]\n",
            "Get:15 http://ppa.launchpad.net/c2d4u.team/c2d4u4.0+/ubuntu bionic/main Sources [2,164 kB]\n",
            "Get:16 http://security.ubuntu.com/ubuntu bionic-security/main amd64 Packages [2,992 kB]\n",
            "Get:17 http://archive.ubuntu.com/ubuntu bionic-updates/main amd64 Packages [3,424 kB]\n",
            "Get:18 http://security.ubuntu.com/ubuntu bionic-security/universe amd64 Packages [1,546 kB]\n",
            "Get:19 http://ppa.launchpad.net/c2d4u.team/c2d4u4.0+/ubuntu bionic/main amd64 Packages [1,109 kB]\n",
            "Get:20 http://archive.ubuntu.com/ubuntu bionic-updates/universe amd64 Packages [2,324 kB]\n",
            "Fetched 14.8 MB in 5s (3,266 kB/s)\n",
            "Reading package lists... Done\n",
            "--2022-10-10 05:52:00--  https://jdbc.postgresql.org/download/postgresql-42.5.0.jar\n",
            "Resolving jdbc.postgresql.org (jdbc.postgresql.org)... 72.32.157.228, 2001:4800:3e1:1::228\n",
            "Connecting to jdbc.postgresql.org (jdbc.postgresql.org)|72.32.157.228|:443... connected.\n",
            "HTTP request sent, awaiting response... 200 OK\n",
            "Length: 1046274 (1022K) [application/java-archive]\n",
            "Saving to: ‘postgresql-42.5.0.jar’\n",
            "\n",
            "postgresql-42.5.0.j 100%[===================>]   1022K  6.47MB/s    in 0.2s    \n",
            "\n",
            "2022-10-10 05:52:00 (6.47 MB/s) - ‘postgresql-42.5.0.jar’ saved [1046274/1046274]\n",
            "\n"
          ]
        }
      ],
      "source": [
        "import os\n",
        "# Find the latest version of spark 3.0  from http://www.apache.org/dist/spark/ and enter as the spark version\n",
        "# For example:\n",
        "# spark_version = 'spark-3.0.3'\n",
        "spark_version = 'spark-3.3.0'\n",
        "os.environ['SPARK_VERSION'] = spark_version\n",
        "\n",
        "# Install Spark and Java\n",
        "!apt-get update\n",
        "!apt-get install openjdk-11-jdk-headless -qq > /dev/null\n",
        "!wget -q http://www.apache.org/dist/spark/$SPARK_VERSION/$SPARK_VERSION-bin-hadoop3.tgz\n",
        "!tar xf $SPARK_VERSION-bin-hadoop3.tgz\n",
        "!pip install -q findspark\n",
        "\n",
        "# Install Postgres Driver\n",
        "!wget https://jdbc.postgresql.org/download/postgresql-42.5.0.jar\n",
        "\n",
        "# Set Environment Variables\n",
        "os.environ[\"JAVA_HOME\"] = \"/usr/lib/jvm/java-11-openjdk-amd64\"\n",
        "os.environ[\"SPARK_HOME\"] = f\"/content/{spark_version}-bin-hadoop3\"\n",
        "\n",
        "# Start a SparkSession\n",
        "import findspark\n",
        "findspark.init()\n"
      ]
    },
    {
      "cell_type": "code",
      "source": [
        "# Start Spark session\n",
        "from pyspark.sql import SparkSession\n",
        "spark = SparkSession.builder.appName(\"M16-Amazon-Challenge\").config(\"spark.driver.extraClassPath\",\"/content/postgresql-42.5.0.jar\").getOrCreate()\n"
      ],
      "metadata": {
        "id": "DTOGzx2pcrg5"
      },
      "execution_count": 2,
      "outputs": []
    },
    {
      "cell_type": "code",
      "source": [
        "from pyspark import SparkFiles\n",
        "url = \"https://s3.amazonaws.com/amazon-reviews-pds/tsv/amazon_reviews_us_Home_Entertainment_v1_00.tsv.gz\"\n",
        "spark.sparkContext.addFile(url)\n",
        "df = spark.read.option(\"encoding\", \"UTF-8\").csv(SparkFiles.get(\"amazon_reviews_us_Home_Entertainment_v1_00.tsv.gz\"), sep=\"\\t\", header=True, inferSchema=True)\n",
        "df.show()\n"
      ],
      "metadata": {
        "colab": {
          "base_uri": "https://localhost:8080/"
        },
        "id": "-XV1IUpxc5KO",
        "outputId": "2d445414-ad70-4f9b-ab2e-9bf5fc9b0abc"
      },
      "execution_count": 3,
      "outputs": [
        {
          "output_type": "stream",
          "name": "stdout",
          "text": [
            "+-----------+-----------+--------------+----------+--------------+--------------------+------------------+-----------+-------------+-----------+----+-----------------+--------------------+--------------------+-------------------+\n",
            "|marketplace|customer_id|     review_id|product_id|product_parent|       product_title|  product_category|star_rating|helpful_votes|total_votes|vine|verified_purchase|     review_headline|         review_body|        review_date|\n",
            "+-----------+-----------+--------------+----------+--------------+--------------------+------------------+-----------+-------------+-----------+----+-----------------+--------------------+--------------------+-------------------+\n",
            "|         US|     179886| RY01SAV7HZ8QO|B00NTI0CQ2|     667358431|Aketek 1080P LED ...|Home Entertainment|          4|            0|          0|   N|                Y|good enough for m...|not the best pict...|2015-08-31 00:00:00|\n",
            "|         US|   37293769|R1XX8SDGJ4MZ4L|B00BUCLVZU|     621695622|TiVo Mini with IR...|Home Entertainment|          5|            0|          0|   N|                N|Tell the Cable Co...|Not only do my Ti...|2015-08-31 00:00:00|\n",
            "|         US|    8332121|R149Q3B5L33NN5|B00RBX9D5W|     143071132|Apple TV MD199LL/...|Home Entertainment|          5|            0|          0|   N|                Y|    Works perfectly!|Works perfectly! ...|2015-08-31 00:00:00|\n",
            "|         US|   47054962|R2ZVD69Z6KPJ4O|B00UJ3IULO|     567816707|New Roku 3 6.5 Fo...|Home Entertainment|          1|            0|          2|   N|                Y|It doesn't work. ...|It doesn't work. ...|2015-08-31 00:00:00|\n",
            "|         US|   23413911|R1DIKG2G33ZLNP|B0037UCTXG|     909557698|Generic DVI-I Dua...|Home Entertainment|          4|            0|          0|   N|                Y|         As pictured|I received the it...|2015-08-31 00:00:00|\n",
            "|         US|    4417771|R3L6FGKAW0EYFI|B004N866SU|     414565179|Samsung 3D LED HD...|Home Entertainment|          1|            1|          1|   N|                N|Only lasts 3-4 ye...|I bought this TV ...|2015-08-31 00:00:00|\n",
            "|         US|   47900707| RAO0QZH5VC6VI|B00JE6AOJS|     798450889|Jiake Wireless Bl...|Home Entertainment|          1|            0|          0|   N|                Y|            One Star|    Waste of $$$$$$$|2015-08-31 00:00:00|\n",
            "|         US|   34112894|R25IK0UAHWNB22|B00COL0B7A|     777554234|3pcs/lot 3in1 3ft...|Home Entertainment|          3|            0|          0|   N|                Y|         Three Stars|Nice but all thre...|2015-08-31 00:00:00|\n",
            "|         US|   20691979|R2A9IHKZMTMAL1|B00QHLSKOE|     885228855|Matricom G-Box Q²...|Home Entertainment|          5|            1|          2|   N|                Y|Yes...exactly wha...|Oh, yeah...doesn'...|2015-08-31 00:00:00|\n",
            "|         US|   25983343| R5XVKTHL6SITI|B00UNL2MUW|     164482798|VIZIO S2920W-C0B ...|Home Entertainment|          5|            0|          0|   N|                Y|Fantastic sound. ...|Fantastic sound. ...|2015-08-31 00:00:00|\n",
            "|         US|   35816068|R2QZZOSTDDY1IE|B00RIC9JB4|     184834831|Hitachi 49\" Class...|Home Entertainment|          3|            3|          6|   N|                Y|               risky|Great tv but Tv d...|2015-08-31 00:00:00|\n",
            "|         US|   10628020|R38CUDCFPSNYTD|B00HPMCO6O|     444378461|Sony BDPS5200 3D ...|Home Entertainment|          5|            0|          0|   N|                Y|          Five Stars|EXCELLENT SERVICE...|2015-08-31 00:00:00|\n",
            "|         US|    9059625| RM6ZR6NH052YH|B004QGXWS6|     770226547|Sylvania 7-Inch T...|Home Entertainment|          3|            1|          2|   N|                Y|They worked great...|They worked great...|2015-08-31 00:00:00|\n",
            "|         US|    2681147| RUQK5N4WH8UN8|B00FO12XY6|     448806082|Roku HD Streaming...|Home Entertainment|          5|            0|          0|   N|                Y|          Five Stars|Smooth and worked...|2015-08-31 00:00:00|\n",
            "|         US|   33449922|R21LWSBQWWJYZ3|B00BD7UVO4|     374427271|LG Electronics BP...|Home Entertainment|          5|            0|          0|   N|                Y|          Five Stars|     Works very well|2015-08-31 00:00:00|\n",
            "|         US|   43069144| R8W5S53RQ2DF7|B00TRQPEYK|     614207013|LG Electronics LF...|Home Entertainment|          5|            0|          0|   N|                Y|               LG TV|The TV arrived qu...|2015-08-31 00:00:00|\n",
            "|         US|   46780686|R3ENME3JQBWXZS|B005STXQG8|     689442799|SquareTrade TV Pr...|Home Entertainment|          5|            0|          1|   N|                Y|          Five Stars|well worth the mo...|2015-08-31 00:00:00|\n",
            "|         US|   49037595|R3URL5K7DHHYK7|B00BEL11RA|     910670994|Cambridge - Azur ...|Home Entertainment|          5|            1|          1|   N|                Y|            Love it.|Great Blu-ray pla...|2015-08-31 00:00:00|\n",
            "|         US|   27868511|R22YISZKS35YZX|B00QHLSKOE|     885228855|Matricom G-Box Q²...|Home Entertainment|          5|            2|          3|   N|                Y|If your on the fe...|Great media cente...|2015-08-31 00:00:00|\n",
            "|         US|    3004043|R3IIOLWHWC297U|B00MWCJ8VQ|     946374680|Roku 3500XB Strea...|Home Entertainment|          5|            0|          0|   N|                Y|          Five Stars|       great product|2015-08-31 00:00:00|\n",
            "+-----------+-----------+--------------+----------+--------------+--------------------+------------------+-----------+-------------+-----------+----+-----------------+--------------------+--------------------+-------------------+\n",
            "only showing top 20 rows\n",
            "\n"
          ]
        }
      ]
    },
    {
      "cell_type": "code",
      "source": [
        "# Clean the DataFrame\n",
        "cleaned_df = df.dropna()\n",
        "cleaned_df.show()\n"
      ],
      "metadata": {
        "colab": {
          "base_uri": "https://localhost:8080/"
        },
        "id": "MM3e-ucJc__6",
        "outputId": "d42dc6dd-2327-4857-eecb-5529bc774344"
      },
      "execution_count": 4,
      "outputs": [
        {
          "output_type": "stream",
          "name": "stdout",
          "text": [
            "+-----------+-----------+--------------+----------+--------------+--------------------+------------------+-----------+-------------+-----------+----+-----------------+--------------------+--------------------+-------------------+\n",
            "|marketplace|customer_id|     review_id|product_id|product_parent|       product_title|  product_category|star_rating|helpful_votes|total_votes|vine|verified_purchase|     review_headline|         review_body|        review_date|\n",
            "+-----------+-----------+--------------+----------+--------------+--------------------+------------------+-----------+-------------+-----------+----+-----------------+--------------------+--------------------+-------------------+\n",
            "|         US|     179886| RY01SAV7HZ8QO|B00NTI0CQ2|     667358431|Aketek 1080P LED ...|Home Entertainment|          4|            0|          0|   N|                Y|good enough for m...|not the best pict...|2015-08-31 00:00:00|\n",
            "|         US|   37293769|R1XX8SDGJ4MZ4L|B00BUCLVZU|     621695622|TiVo Mini with IR...|Home Entertainment|          5|            0|          0|   N|                N|Tell the Cable Co...|Not only do my Ti...|2015-08-31 00:00:00|\n",
            "|         US|    8332121|R149Q3B5L33NN5|B00RBX9D5W|     143071132|Apple TV MD199LL/...|Home Entertainment|          5|            0|          0|   N|                Y|    Works perfectly!|Works perfectly! ...|2015-08-31 00:00:00|\n",
            "|         US|   47054962|R2ZVD69Z6KPJ4O|B00UJ3IULO|     567816707|New Roku 3 6.5 Fo...|Home Entertainment|          1|            0|          2|   N|                Y|It doesn't work. ...|It doesn't work. ...|2015-08-31 00:00:00|\n",
            "|         US|   23413911|R1DIKG2G33ZLNP|B0037UCTXG|     909557698|Generic DVI-I Dua...|Home Entertainment|          4|            0|          0|   N|                Y|         As pictured|I received the it...|2015-08-31 00:00:00|\n",
            "|         US|    4417771|R3L6FGKAW0EYFI|B004N866SU|     414565179|Samsung 3D LED HD...|Home Entertainment|          1|            1|          1|   N|                N|Only lasts 3-4 ye...|I bought this TV ...|2015-08-31 00:00:00|\n",
            "|         US|   47900707| RAO0QZH5VC6VI|B00JE6AOJS|     798450889|Jiake Wireless Bl...|Home Entertainment|          1|            0|          0|   N|                Y|            One Star|    Waste of $$$$$$$|2015-08-31 00:00:00|\n",
            "|         US|   34112894|R25IK0UAHWNB22|B00COL0B7A|     777554234|3pcs/lot 3in1 3ft...|Home Entertainment|          3|            0|          0|   N|                Y|         Three Stars|Nice but all thre...|2015-08-31 00:00:00|\n",
            "|         US|   20691979|R2A9IHKZMTMAL1|B00QHLSKOE|     885228855|Matricom G-Box Q²...|Home Entertainment|          5|            1|          2|   N|                Y|Yes...exactly wha...|Oh, yeah...doesn'...|2015-08-31 00:00:00|\n",
            "|         US|   25983343| R5XVKTHL6SITI|B00UNL2MUW|     164482798|VIZIO S2920W-C0B ...|Home Entertainment|          5|            0|          0|   N|                Y|Fantastic sound. ...|Fantastic sound. ...|2015-08-31 00:00:00|\n",
            "|         US|   35816068|R2QZZOSTDDY1IE|B00RIC9JB4|     184834831|Hitachi 49\" Class...|Home Entertainment|          3|            3|          6|   N|                Y|               risky|Great tv but Tv d...|2015-08-31 00:00:00|\n",
            "|         US|   10628020|R38CUDCFPSNYTD|B00HPMCO6O|     444378461|Sony BDPS5200 3D ...|Home Entertainment|          5|            0|          0|   N|                Y|          Five Stars|EXCELLENT SERVICE...|2015-08-31 00:00:00|\n",
            "|         US|    9059625| RM6ZR6NH052YH|B004QGXWS6|     770226547|Sylvania 7-Inch T...|Home Entertainment|          3|            1|          2|   N|                Y|They worked great...|They worked great...|2015-08-31 00:00:00|\n",
            "|         US|    2681147| RUQK5N4WH8UN8|B00FO12XY6|     448806082|Roku HD Streaming...|Home Entertainment|          5|            0|          0|   N|                Y|          Five Stars|Smooth and worked...|2015-08-31 00:00:00|\n",
            "|         US|   33449922|R21LWSBQWWJYZ3|B00BD7UVO4|     374427271|LG Electronics BP...|Home Entertainment|          5|            0|          0|   N|                Y|          Five Stars|     Works very well|2015-08-31 00:00:00|\n",
            "|         US|   43069144| R8W5S53RQ2DF7|B00TRQPEYK|     614207013|LG Electronics LF...|Home Entertainment|          5|            0|          0|   N|                Y|               LG TV|The TV arrived qu...|2015-08-31 00:00:00|\n",
            "|         US|   46780686|R3ENME3JQBWXZS|B005STXQG8|     689442799|SquareTrade TV Pr...|Home Entertainment|          5|            0|          1|   N|                Y|          Five Stars|well worth the mo...|2015-08-31 00:00:00|\n",
            "|         US|   49037595|R3URL5K7DHHYK7|B00BEL11RA|     910670994|Cambridge - Azur ...|Home Entertainment|          5|            1|          1|   N|                Y|            Love it.|Great Blu-ray pla...|2015-08-31 00:00:00|\n",
            "|         US|   27868511|R22YISZKS35YZX|B00QHLSKOE|     885228855|Matricom G-Box Q²...|Home Entertainment|          5|            2|          3|   N|                Y|If your on the fe...|Great media cente...|2015-08-31 00:00:00|\n",
            "|         US|    3004043|R3IIOLWHWC297U|B00MWCJ8VQ|     946374680|Roku 3500XB Strea...|Home Entertainment|          5|            0|          0|   N|                Y|          Five Stars|       great product|2015-08-31 00:00:00|\n",
            "+-----------+-----------+--------------+----------+--------------+--------------------+------------------+-----------+-------------+-----------+----+-----------------+--------------------+--------------------+-------------------+\n",
            "only showing top 20 rows\n",
            "\n"
          ]
        }
      ]
    },
    {
      "cell_type": "code",
      "source": [
        "# Create the vine_table DataFrame\n",
        "vine_df = df.select(['review_id', 'star_rating', 'helpful_votes', 'total_votes', 'vine', 'verified_purchase'])\n",
        "vine_df.show()\n"
      ],
      "metadata": {
        "colab": {
          "base_uri": "https://localhost:8080/"
        },
        "id": "_EseNg0HdUsf",
        "outputId": "76091b76-0108-410a-fe4a-8ccdb4c846e9"
      },
      "execution_count": 5,
      "outputs": [
        {
          "output_type": "stream",
          "name": "stdout",
          "text": [
            "+--------------+-----------+-------------+-----------+----+-----------------+\n",
            "|     review_id|star_rating|helpful_votes|total_votes|vine|verified_purchase|\n",
            "+--------------+-----------+-------------+-----------+----+-----------------+\n",
            "| RY01SAV7HZ8QO|          4|            0|          0|   N|                Y|\n",
            "|R1XX8SDGJ4MZ4L|          5|            0|          0|   N|                N|\n",
            "|R149Q3B5L33NN5|          5|            0|          0|   N|                Y|\n",
            "|R2ZVD69Z6KPJ4O|          1|            0|          2|   N|                Y|\n",
            "|R1DIKG2G33ZLNP|          4|            0|          0|   N|                Y|\n",
            "|R3L6FGKAW0EYFI|          1|            1|          1|   N|                N|\n",
            "| RAO0QZH5VC6VI|          1|            0|          0|   N|                Y|\n",
            "|R25IK0UAHWNB22|          3|            0|          0|   N|                Y|\n",
            "|R2A9IHKZMTMAL1|          5|            1|          2|   N|                Y|\n",
            "| R5XVKTHL6SITI|          5|            0|          0|   N|                Y|\n",
            "|R2QZZOSTDDY1IE|          3|            3|          6|   N|                Y|\n",
            "|R38CUDCFPSNYTD|          5|            0|          0|   N|                Y|\n",
            "| RM6ZR6NH052YH|          3|            1|          2|   N|                Y|\n",
            "| RUQK5N4WH8UN8|          5|            0|          0|   N|                Y|\n",
            "|R21LWSBQWWJYZ3|          5|            0|          0|   N|                Y|\n",
            "| R8W5S53RQ2DF7|          5|            0|          0|   N|                Y|\n",
            "|R3ENME3JQBWXZS|          5|            0|          1|   N|                Y|\n",
            "|R3URL5K7DHHYK7|          5|            1|          1|   N|                Y|\n",
            "|R22YISZKS35YZX|          5|            2|          3|   N|                Y|\n",
            "|R3IIOLWHWC297U|          5|            0|          0|   N|                Y|\n",
            "+--------------+-----------+-------------+-----------+----+-----------------+\n",
            "only showing top 20 rows\n",
            "\n"
          ]
        }
      ]
    },
    {
      "cell_type": "markdown",
      "source": [
        "# Deliverable 2: Determine Bias of Vine Reviews"
      ],
      "metadata": {
        "id": "0RPW5YSHdxUb"
      }
    },
    {
      "cell_type": "code",
      "source": [
        "# Step 1: Filter the data and create a new DataFrame or table to retrieve all the \n",
        "# rows where the total_votes count is equal to or greater than 20\n",
        "\n",
        "from pyspark.sql.functions import col\n",
        "\n",
        "total_votes_df = vine_df.filter(col('total_votes') >= 20)\n",
        "total_votes_df.show()\n"
      ],
      "metadata": {
        "colab": {
          "base_uri": "https://localhost:8080/"
        },
        "id": "lrG8QFORdmyA",
        "outputId": "85f43a74-1342-409a-bbf7-549d005c1fa3"
      },
      "execution_count": 6,
      "outputs": [
        {
          "output_type": "stream",
          "name": "stdout",
          "text": [
            "+--------------+-----------+-------------+-----------+----+-----------------+\n",
            "|     review_id|star_rating|helpful_votes|total_votes|vine|verified_purchase|\n",
            "+--------------+-----------+-------------+-----------+----+-----------------+\n",
            "|R1VCSDR38XTALJ|          1|           33|         40|   N|                N|\n",
            "|R1KMC6B2JRCZ3D|          3|           42|         47|   N|                N|\n",
            "|R1LV778IDGRJQ6|          1|            4|         23|   N|                Y|\n",
            "| RBZE8H6SHVYWW|          3|           77|        110|   N|                N|\n",
            "|R2LBEAGVJA7HK1|          3|            5|         48|   N|                N|\n",
            "|R3UN4H3BW9YTQA|          5|          358|        388|   N|                Y|\n",
            "| R2YKRQ8R3B2Q3|          5|           30|         35|   N|                N|\n",
            "|R1K00VBT0SMD4Z|          1|           50|         60|   N|                Y|\n",
            "|R3QLX5NODD1OJ4|          1|            9|         25|   N|                Y|\n",
            "|R2SOOHE0XUQON1|          1|            2|         24|   N|                N|\n",
            "|R2I9AO0VEBYJES|          4|           47|         57|   N|                Y|\n",
            "|R27EECVZ426CQ5|          1|            3|         25|   N|                N|\n",
            "|R3Q7YJX1I5PDMU|          3|           22|         22|   N|                Y|\n",
            "| RJQQO26UPW1PI|          5|           76|         96|   N|                Y|\n",
            "|R2QJI05ZY7DNSR|          4|           59|         73|   N|                N|\n",
            "|R2MBLFKV5JFTKE|          1|           80|         89|   N|                N|\n",
            "|R1YYR1SP2TS30L|          1|           55|         70|   N|                Y|\n",
            "|R2DYKW0X2B93QG|          2|           50|         63|   N|                Y|\n",
            "|R14QWM0LJO6313|          5|           24|         28|   N|                Y|\n",
            "|R19H4AKN005KL8|          5|           19|         28|   N|                Y|\n",
            "+--------------+-----------+-------------+-----------+----+-----------------+\n",
            "only showing top 20 rows\n",
            "\n"
          ]
        }
      ]
    },
    {
      "cell_type": "code",
      "source": [
        "# Step 2: Filter the new DataFrame or table created in Step 1 and create a new \n",
        "# DataFrame or table to retrieve all the rows where the number of helpful_votes \n",
        "# divided by total_votes is equal to or greater than 50%.\n",
        "\n",
        "votes_above_50_df = total_votes_df.withColumn('votes_above_50',col('helpful_votes')/col('total_votes')).alias('votes_above_50').filter(col(\"votes_above_50\") >= 0.5)\n",
        "votes_above_50_df.show()\n"
      ],
      "metadata": {
        "colab": {
          "base_uri": "https://localhost:8080/"
        },
        "id": "qEBmiAcSd4JT",
        "outputId": "f65f4658-b3df-4b7b-e5f0-46bb856a1278"
      },
      "execution_count": 7,
      "outputs": [
        {
          "output_type": "stream",
          "name": "stdout",
          "text": [
            "+--------------+-----------+-------------+-----------+----+-----------------+------------------+\n",
            "|     review_id|star_rating|helpful_votes|total_votes|vine|verified_purchase|    votes_above_50|\n",
            "+--------------+-----------+-------------+-----------+----+-----------------+------------------+\n",
            "|R1VCSDR38XTALJ|          1|           33|         40|   N|                N|             0.825|\n",
            "|R1KMC6B2JRCZ3D|          3|           42|         47|   N|                N|0.8936170212765957|\n",
            "| RBZE8H6SHVYWW|          3|           77|        110|   N|                N|               0.7|\n",
            "|R3UN4H3BW9YTQA|          5|          358|        388|   N|                Y|0.9226804123711341|\n",
            "| R2YKRQ8R3B2Q3|          5|           30|         35|   N|                N|0.8571428571428571|\n",
            "|R1K00VBT0SMD4Z|          1|           50|         60|   N|                Y|0.8333333333333334|\n",
            "|R2I9AO0VEBYJES|          4|           47|         57|   N|                Y|0.8245614035087719|\n",
            "|R3Q7YJX1I5PDMU|          3|           22|         22|   N|                Y|               1.0|\n",
            "| RJQQO26UPW1PI|          5|           76|         96|   N|                Y|0.7916666666666666|\n",
            "|R2QJI05ZY7DNSR|          4|           59|         73|   N|                N|0.8082191780821918|\n",
            "|R2MBLFKV5JFTKE|          1|           80|         89|   N|                N| 0.898876404494382|\n",
            "|R1YYR1SP2TS30L|          1|           55|         70|   N|                Y|0.7857142857142857|\n",
            "|R2DYKW0X2B93QG|          2|           50|         63|   N|                Y|0.7936507936507936|\n",
            "|R14QWM0LJO6313|          5|           24|         28|   N|                Y|0.8571428571428571|\n",
            "|R19H4AKN005KL8|          5|           19|         28|   N|                Y|0.6785714285714286|\n",
            "|R27MJ6EZADWWPX|          5|           34|         37|   N|                Y| 0.918918918918919|\n",
            "| RXZ3Q8ZGMVQ40|          1|           19|         30|   N|                Y|0.6333333333333333|\n",
            "|R2GFDC3KTYASPJ|          5|           94|        118|   N|                Y|0.7966101694915254|\n",
            "|R288AJX5OK9K4Q|          1|           46|         63|   N|                Y|0.7301587301587301|\n",
            "|R25PC9R5T29WSK|          5|           21|         23|   N|                Y|0.9130434782608695|\n",
            "+--------------+-----------+-------------+-----------+----+-----------------+------------------+\n",
            "only showing top 20 rows\n",
            "\n"
          ]
        }
      ]
    },
    {
      "cell_type": "code",
      "source": [
        "# Step 3: Filter the DataFrame or table created in Step 2, and create a new \n",
        "# DataFrame or table that retrieves all the rows where a review was written as \n",
        "# part of the Vine program (paid), vine == 'Y'\n",
        "\n",
        "paid_df = votes_above_50_df.filter(col('vine') == 'Y')\n",
        "paid_df.show()\n"
      ],
      "metadata": {
        "colab": {
          "base_uri": "https://localhost:8080/"
        },
        "id": "4HIMQX7QekxU",
        "outputId": "4c7609f1-a8d1-4faf-cc65-86b1c5c593da"
      },
      "execution_count": 8,
      "outputs": [
        {
          "output_type": "stream",
          "name": "stdout",
          "text": [
            "+--------------+-----------+-------------+-----------+----+-----------------+------------------+\n",
            "|     review_id|star_rating|helpful_votes|total_votes|vine|verified_purchase|    votes_above_50|\n",
            "+--------------+-----------+-------------+-----------+----+-----------------+------------------+\n",
            "|R3LLICBKRHLRJC|          4|           17|         22|   Y|                N|0.7727272727272727|\n",
            "| RUD135S06DEVE|          5|           41|         51|   Y|                N| 0.803921568627451|\n",
            "|R2WG8UL4SGDPDH|          4|           23|         25|   Y|                N|              0.92|\n",
            "|R158AOKOA28WS2|          4|           18|         28|   Y|                N|0.6428571428571429|\n",
            "| RGWV3QLJQXU9X|          5|          332|        380|   Y|                N|0.8736842105263158|\n",
            "| RD0E1RZSSYGGN|          5|          261|        292|   Y|                N|0.8938356164383562|\n",
            "|R3LGCTQH5ZMGO0|          5|           61|         68|   Y|                N|0.8970588235294118|\n",
            "|R2H24YTRLARCZJ|          4|          277|        297|   Y|                N|0.9326599326599326|\n",
            "| RYYTC9JTG7WPW|          5|          107|        134|   Y|                N|0.7985074626865671|\n",
            "| RTB8H4YQYTLY3|          4|           58|         62|   Y|                N|0.9354838709677419|\n",
            "| RMQYIMBVK7T8R|          5|           29|         36|   Y|                N|0.8055555555555556|\n",
            "| R9KIBRBGB1M6W|          5|           26|         33|   Y|                N|0.7878787878787878|\n",
            "|R122J9QGFCZTR0|          5|          324|        342|   Y|                N|0.9473684210526315|\n",
            "|R2QIEBCHDXA2CW|          4|           55|         64|   Y|                N|          0.859375|\n",
            "|R1KG6E0W0Q5YCQ|          5|           27|         32|   Y|                N|           0.84375|\n",
            "|R3B6CGFNVWRWJ0|          5|           15|         23|   Y|                N|0.6521739130434783|\n",
            "| RR66J5S5D8ZUP|          5|           25|         33|   Y|                N|0.7575757575757576|\n",
            "|R3UC7TCOGT73CJ|          3|           33|         41|   Y|                N|0.8048780487804879|\n",
            "| R32UKGZUYVA2S|          2|           64|         77|   Y|                N|0.8311688311688312|\n",
            "|R1G2OXP36OPF40|          5|           20|         22|   Y|                N|0.9090909090909091|\n",
            "+--------------+-----------+-------------+-----------+----+-----------------+------------------+\n",
            "only showing top 20 rows\n",
            "\n"
          ]
        }
      ]
    },
    {
      "cell_type": "code",
      "source": [
        "# Step 4: Repeat Step 3, but this time retrieve all the rows where the review \n",
        "# was not part of the Vine program (unpaid), vine == 'N'.\n",
        "\n",
        "unpaid_df = votes_above_50_df.filter(col('vine') == 'N')\n",
        "unpaid_df.show()\n"
      ],
      "metadata": {
        "colab": {
          "base_uri": "https://localhost:8080/"
        },
        "id": "JL9oZoQ8e48i",
        "outputId": "18619dcd-c65d-43d5-a6ae-941d0daf2b87"
      },
      "execution_count": 9,
      "outputs": [
        {
          "output_type": "stream",
          "name": "stdout",
          "text": [
            "+--------------+-----------+-------------+-----------+----+-----------------+------------------+\n",
            "|     review_id|star_rating|helpful_votes|total_votes|vine|verified_purchase|    votes_above_50|\n",
            "+--------------+-----------+-------------+-----------+----+-----------------+------------------+\n",
            "|R1VCSDR38XTALJ|          1|           33|         40|   N|                N|             0.825|\n",
            "|R1KMC6B2JRCZ3D|          3|           42|         47|   N|                N|0.8936170212765957|\n",
            "| RBZE8H6SHVYWW|          3|           77|        110|   N|                N|               0.7|\n",
            "|R3UN4H3BW9YTQA|          5|          358|        388|   N|                Y|0.9226804123711341|\n",
            "| R2YKRQ8R3B2Q3|          5|           30|         35|   N|                N|0.8571428571428571|\n",
            "|R1K00VBT0SMD4Z|          1|           50|         60|   N|                Y|0.8333333333333334|\n",
            "|R2I9AO0VEBYJES|          4|           47|         57|   N|                Y|0.8245614035087719|\n",
            "|R3Q7YJX1I5PDMU|          3|           22|         22|   N|                Y|               1.0|\n",
            "| RJQQO26UPW1PI|          5|           76|         96|   N|                Y|0.7916666666666666|\n",
            "|R2QJI05ZY7DNSR|          4|           59|         73|   N|                N|0.8082191780821918|\n",
            "|R2MBLFKV5JFTKE|          1|           80|         89|   N|                N| 0.898876404494382|\n",
            "|R1YYR1SP2TS30L|          1|           55|         70|   N|                Y|0.7857142857142857|\n",
            "|R2DYKW0X2B93QG|          2|           50|         63|   N|                Y|0.7936507936507936|\n",
            "|R14QWM0LJO6313|          5|           24|         28|   N|                Y|0.8571428571428571|\n",
            "|R19H4AKN005KL8|          5|           19|         28|   N|                Y|0.6785714285714286|\n",
            "|R27MJ6EZADWWPX|          5|           34|         37|   N|                Y| 0.918918918918919|\n",
            "| RXZ3Q8ZGMVQ40|          1|           19|         30|   N|                Y|0.6333333333333333|\n",
            "|R2GFDC3KTYASPJ|          5|           94|        118|   N|                Y|0.7966101694915254|\n",
            "|R288AJX5OK9K4Q|          1|           46|         63|   N|                Y|0.7301587301587301|\n",
            "|R25PC9R5T29WSK|          5|           21|         23|   N|                Y|0.9130434782608695|\n",
            "+--------------+-----------+-------------+-----------+----+-----------------+------------------+\n",
            "only showing top 20 rows\n",
            "\n"
          ]
        }
      ]
    },
    {
      "cell_type": "code",
      "source": [
        "# Step 5: Determine the total number of reviews, the number of 5-star reviews, and \n",
        "# the percentage of 5-star reviews for the two types of review (paid vs unpaid).\n",
        "\n",
        "from pyspark.sql.functions import col,when,count,lit\n",
        "reviews_total_df = votes_above_50_df.groupBy(\"vine\").agg(\n",
        "    count(col('vine')).alias('Total_Reviews'),\n",
        "    count(when(col('star_rating') == 5, True)).alias('Total_5_Star_Reviews'),\n",
        "    (count(when(col('star_rating') == 5, True))/count(col('Vine'))*100).alias('Percent_5_Star_Total'))\n",
        "reviews_total_df.show()\n"
      ],
      "metadata": {
        "colab": {
          "base_uri": "https://localhost:8080/"
        },
        "id": "c9fEZEXnfIWY",
        "outputId": "da49903a-89e3-41d2-c33e-22fafc1d0192"
      },
      "execution_count": 11,
      "outputs": [
        {
          "output_type": "stream",
          "name": "stdout",
          "text": [
            "+----+-------------+--------------------+--------------------+\n",
            "|vine|Total_Reviews|Total_5_Star_Reviews|Percent_5_Star_Total|\n",
            "+----+-------------+--------------------+--------------------+\n",
            "|   Y|          261|                 106|   40.61302681992337|\n",
            "|   N|        24040|               10899|    45.3369384359401|\n",
            "+----+-------------+--------------------+--------------------+\n",
            "\n"
          ]
        }
      ]
    },
    {
      "cell_type": "code",
      "source": [],
      "metadata": {
        "id": "iOOCDSz6f3Zq"
      },
      "execution_count": null,
      "outputs": []
    }
  ]
}